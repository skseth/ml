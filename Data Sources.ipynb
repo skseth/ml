{
 "cells": [
  {
   "cell_type": "markdown",
   "metadata": {},
   "source": [
    "From : [Big Data: 35 Brilliant And Free Data Sources For 2016](http://www.forbes.com/sites/bernardmarr/2016/02/12/big-data-35-brilliant-and-free-data-sources-for-2016/#3c166e216796)\n",
    "\n",
    "<ol> \n",
    " <li>Data.gov <a href=\"http://data.gov/\">http://data.gov</a> The US Government pledged last year to make all government data available freely online. This site is the first stage and acts as a portal to all sorts of amazing information on everything from climate to crime.</li> \n",
    " <li>US Census Bureau <a href=\"http://www.census.gov/data.html\">http://www.census.gov/data.html</a> A wealth of information on the lives of US citizens covering population data, geographic data and education.</li> \n",
    " <div id=\"article-0-inread\" article-ad-inbody=\"inread\" class=\"inread ng-isolate-scope inread-active\"><!-- ngIf: initialized && active --></div> \n",
    " <li><a href=\"http://www.socrata.com/discover/\">Socrata</a> is another interesting place to explore government-related data, with some visualisation tools built-in.</li> \n",
    " <li>European Union Open Data Portal <a href=\"http://open-data.europa.eu/en/data/\">http://open-data.europa.eu/en/data/</a> As the above, but based on data from European Union institutions.</li> \n",
    " <li>Data.gov.uk <a href=\"http://data.gov.uk/\">http://data.gov.uk/</a> Data from the UK Government, including the British National Bibliography – metadata on all UK books and publications since 1950.</li> \n",
    " <li><a href=\"http://www.data.gc.ca/\">Canada Open Data</a> is a pilot project with many government and geospatial datasets.</li> \n",
    " <li><a href=\"http://opengovernmentdata.org/data/\">Datacatalogs.org</a> offers open government data from US, EU, Canada, CKAN, and more.</li> \n",
    " <li>The CIA World Factbook <a href=\"https://www.cia.gov/library/publications/the-world-factbook/\">https://www.cia.gov/library/publications/the-world-factbook/</a> Information on history, population, economy, government, infrastructure and military of 267 countries.\n",
    "</li> \n",
    " <li>Healthdata.gov <a href=\"https://www.healthdata.gov/\">https://www.healthdata.gov/</a> 125 years of US healthcare data including claim-level Medicare data, epidemiology and population statistics.</li> \n",
    " <li>NHS <a href=\"http://www.forbes.com/health/\" target=\"_self\">Health</a> and Social Care Information Centre <a href=\"http://www.hscic.gov.uk/home\">http://www.hscic.gov.uk/home</a> Health data sets from the UK National Health Service.</li> \n",
    " <li><a href=\"http://www.unicef.org/statistics/\">UNICEF</a> offers statistics on the situation of women and children worldwide.</li> \n",
    " <li><a href=\"http://www.who.int/en/\">World Health Organization</a> offers world hunger, health, and disease statistics.</li> \n",
    " <li>Amazon Web Services public datasets <a href=\"http://aws.amazon.com/datasets\">http://aws.amazon.com/datasets</a> Huge resource of public data, including the 1000 Genome Project, an attempt to build the most comprehensive database of human genetic information and <span class=\"quotecard ng-isolate-scope\" article-quote-card=\"\" data-ticker=\"null\" data-exchange=\"null\" data-type=\"organization\" data-naturalid=\"fred/company/102607\" data-quotes-closing=\"0.0\" data-quotes-now=\"0.0\" data-link=\"/companies/nasa\" data-name=\"NASA\"><a ng-href=\"http://www.forbes.com/companies/nasa\" target=\"_self\" class=\"ng-binding\" href=\"http://www.forbes.com/companies/nasa\">NASA</a> <!-- ngIf: ticker --></span>’s database of satellite imagery of Earth.</li> \n",
    " <li><span class=\"quotecard ng-isolate-scope\" article-quote-card=\"\" data-ticker=\"FB\" data-exchange=\"NASDAQ\" data-type=\"organization\" data-naturalid=\"fred/company/15317\" data-quotes-closing=\"101.96\" data-quotes-now=\"102.01\" data-link=\"/companies/facebook\" data-name=\"Facebook\"><a ng-href=\"http://www.forbes.com/companies/facebook\" target=\"_self\" class=\"ng-binding\" href=\"http://www.forbes.com/companies/facebook\">Facebook</a> <!-- ngIf: ticker --><span ng-if=\"ticker\" class=\"card-preview ng-scope\" ng-mouseover=\"showQuotecard()\" ng-mouseleave=\"hideQuotecard()\"><a ng-href=\"http://www.forbes.com/companies/facebook\" target=\"_self\" class=\"preview positive\" href=\"http://www.forbes.com/companies/facebook\">FB +0.05%</a><!-- ngIf: show_card --></span><!-- end ngIf: ticker --></span> Graph <a href=\"https://developers.facebook.com/docs/graph-api\">https://developers.facebook.com/docs/graph-api</a> Although much of the information on users’ Facebook profile is private, a lot isn’t – Facebook provide the Graph API as a way of querying the huge amount of information that its users are happy to share with the world (or can’t hide because they haven’t worked out how the privacy settings work).</li> \n",
    " <li><a href=\"http://face.com/\">Face.com</a>: A fascinating tool for facial recognition data.</li> \n",
    " <li><a href=\"http://www.stat.ucla.edu/data/\">UCLA</a> makes some of the data from its courses public.</li> \n",
    " <li><a href=\"http://datamarket.com/\">Data Market</a> is a place to check out &nbsp;data related to economics, healthcare, food and agriculture, and the automotive industry.</li> \n",
    " <li><a href=\"http://www.google.com/publicdata/directory\">Google Public data explorer</a> includes data from world development indicators, OECD, and human development indicators, mostly related to economics data and the world.</li> \n",
    " <li><a href=\"http://www.junar.com/\">Junar</a> is a data scraping service that also includes data feeds.</li> \n",
    " <li><a href=\"http://buzzdata.com/content/\">Buzzdata</a> is a social data sharing service that allows you to upload your own data and connect with others who are uploading their data.</li> \n",
    " <li>Gapminder <a href=\"http://www.gapminder.org/data/\">http://www.gapminder.org/data/</a> Compilation of data from sources including the World Health Organization and World Bank covering economic, medical and social statistics from around the world.</li> \n",
    " <li><span class=\"quotecard ng-isolate-scope\" article-quote-card=\"\" data-ticker=\"GOOGL\" data-exchange=\"NASDAQ\" data-type=\"organization\" data-naturalid=\"fred/company/1821\" data-quotes-closing=\"705.58\" data-quotes-now=\"706.04\" data-link=\"/companies/google\" data-name=\"Google\"><a ng-href=\"http://www.forbes.com/companies/google\" target=\"_self\" class=\"ng-binding\" href=\"http://www.forbes.com/companies/google\">Google</a> <!-- ngIf: ticker --><span ng-if=\"ticker\" class=\"card-preview ng-scope\" ng-mouseover=\"showQuotecard()\" ng-mouseleave=\"hideQuotecard()\"><a ng-href=\"http://www.forbes.com/companies/google\" target=\"_self\" class=\"preview positive\" href=\"http://www.forbes.com/companies/google\">GOOGL +0.07%</a><!-- ngIf: show_card --></span><!-- end ngIf: ticker --></span> Trends <a href=\"http://www.google.com/trends/explore\">http://www.google.com/trends/explore</a> Statistics on search volume (as a proportion of total search) for any given term, since 2004.</li> \n",
    " <li>Google Finance <a href=\"https://www.google.com/finance\">https://www.google.com/finance</a> 40 years’ worth of stock market data, updated in real time.</li> \n",
    " <li>Google Books Ngrams <a href=\"http://storage.googleapis.com/books/ngrams/books/datasetsv2.html\">http://storage.googleapis.com/books/ngrams/books/datasetsv2.html</a> Search and analyze the full text of any of the millions of books digitised as part of the Google Books project.</li> \n",
    " <li>National Climatic Data Center <a href=\"http://www.ncdc.noaa.gov/data-access/quick-links#loc-clim\">http://www.ncdc.noaa.gov/data-access/quick-links#loc-clim</a> Huge collection of environmental, meteorological and climate data sets from the US National Climatic Data Center. The world’s largest archive of weather data.</li> \n",
    " <li>DBPedia <a href=\"http://wiki.dbpedia.org/\">http://wiki.dbpedia.org</a> Wikipedia is comprised of millions of pieces of data, structured and unstructured on every subject under the sun. DBPedia is an ambitious project to catalogue and create a public, freely distributable database allowing anyone to analyze this data.</li> \n",
    " <li>Topsy <a href=\"http://topsy.com/\">http://topsy.com/</a> Free, comprehensive social media data is hard to come by – after all their data is what generates profits for the big players (Facebook, <span class=\"quotecard ng-isolate-scope\" article-quote-card=\"\" data-ticker=\"TWTR\" data-exchange=\"NYSE\" data-type=\"organization\" data-naturalid=\"fred/company/102047\" data-quotes-closing=\"14.31\" data-quotes-now=\"15.88\" data-link=\"/companies/twitter\" data-name=\"Twitter\"><a ng-href=\"http://www.forbes.com/companies/twitter\" target=\"_self\" class=\"ng-binding\" href=\"http://www.forbes.com/companies/twitter\">Twitter</a> <!-- ngIf: ticker --><span ng-if=\"ticker\" class=\"card-preview ng-scope\" ng-mouseover=\"showQuotecard()\" ng-mouseleave=\"hideQuotecard()\"><a ng-href=\"http://www.forbes.com/companies/twitter\" target=\"_self\" class=\"preview positive\" href=\"http://www.forbes.com/companies/twitter\">TWTR +10.97%</a><!-- ngIf: show_card --></span><!-- end ngIf: ticker --></span> etc) so they don’t want to give it away. However Topsy provides a searchable database of public tweets going back to 2006 as well as several tools to analyze the conversations.</li> \n",
    " <li>Likebutton <a href=\"http://likebutton.com/\">http://likebutton.com/</a> Mines Facebook’s public data – globally and from your own network – to give an overview of what people “Like” at the moment.</li> \n",
    " <li>New York Times <a href=\"http://developer.nytimes.com/docs\">http://developer.nytimes.com/docs</a> Searchable, indexed archive of news articles going back to 1851.</li> \n",
    " <li>Freebase <a href=\"http://www.freebase.com/\">http://www.freebase.com/</a> A community-compiled database of structured data about people, places and things, with over 45 million entries.</li> \n",
    " <li>Million Song Data Set <a href=\"http://aws.amazon.com/datasets/6468931156960467\">http://aws.amazon.com/datasets/6468931156960467</a> Metadata on over a million songs and pieces of music. Part of Amazon Web Services.</li> \n",
    " <li><a href=\"http://archive.ics.uci.edu/ml/index.html\">UCI Machine Learning Repository</a> is a dataset specifically pre-processed for machine learning.</li> \n",
    " <li><a href=\"http://fisher.osu.edu/fin/fdf/osudata.htm\">Financial Data Finder at OSU</a> offers a large catalog of financial data sets.</li> \n",
    " <li><a href=\"http://www.pewinternet.org/datasets/\">Pew Research Center</a> offers its raw data from its fascinating research into American life.</li> \n",
    " <li><a href=\"http://www.broadinstitute.org/cgi-bin/cancer/datasets.cgi\">The BROAD Institute </a>offers a number of cancer-related datasets.</li> \n",
    "</ol>\n",
    "\n",
    "\n",
    "\n"
   ]
  },
  {
   "cell_type": "markdown",
   "metadata": {
    "collapsed": true
   },
   "source": [
    "# India Data Sources\n",
    "\n",
    "[DataMeet Catalog](http://datameet.org/wiki/catalog)\n",
    "\n"
   ]
  },
  {
   "cell_type": "code",
   "execution_count": null,
   "metadata": {
    "collapsed": true
   },
   "outputs": [],
   "source": []
  }
 ],
 "metadata": {
  "kernelspec": {
   "display_name": "Python 3",
   "language": "python",
   "name": "python3"
  },
  "language_info": {
   "codemirror_mode": {
    "name": "ipython",
    "version": 3
   },
   "file_extension": ".py",
   "mimetype": "text/x-python",
   "name": "python",
   "nbconvert_exporter": "python",
   "pygments_lexer": "ipython3",
   "version": "3.5.1"
  }
 },
 "nbformat": 4,
 "nbformat_minor": 0
}
