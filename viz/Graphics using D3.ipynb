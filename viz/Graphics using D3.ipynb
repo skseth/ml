{
 "cells": [
  {
   "cell_type": "code",
   "execution_count": 31,
   "metadata": {
    "collapsed": false
   },
   "outputs": [],
   "source": [
    "from IPython.core.display import HTML"
   ]
  },
  {
   "cell_type": "code",
   "execution_count": 37,
   "metadata": {
    "collapsed": false
   },
   "outputs": [
    {
     "data": {
      "application/javascript": [
       "require.config({\n",
       "  paths: {\n",
       "      d3: '//cdnjs.cloudflare.com/ajax/libs/d3/3.4.8/d3.min'\n",
       "  }\n",
       "});"
      ],
      "text/plain": [
       "<IPython.core.display.Javascript object>"
      ]
     },
     "metadata": {},
     "output_type": "display_data"
    }
   ],
   "source": [
    "%%javascript\n",
    "require.config({\n",
    "  paths: {\n",
    "      d3: '//cdnjs.cloudflare.com/ajax/libs/d3/3.4.8/d3.min'\n",
    "  }\n",
    "});"
   ]
  },
  {
   "cell_type": "code",
   "execution_count": 47,
   "metadata": {
    "collapsed": true
   },
   "outputs": [],
   "source": [
    "size_data = [10,20,30]"
   ]
  },
  {
   "cell_type": "code",
   "execution_count": 27,
   "metadata": {
    "collapsed": false
   },
   "outputs": [
    {
     "data": {
      "text/html": [
       "<script src=\"http://d3js.org/d3.v3.min.js\" charset=\"utf-8\"></script>"
      ],
      "text/plain": [
       "<IPython.core.display.HTML object>"
      ]
     },
     "execution_count": 27,
     "metadata": {},
     "output_type": "execute_result"
    }
   ],
   "source": [
    "HTML('<script src=\"http://d3js.org/d3.v3.min.js\" charset=\"utf-8\"></script>')"
   ]
  },
  {
   "cell_type": "code",
   "execution_count": 38,
   "metadata": {
    "collapsed": false
   },
   "outputs": [
    {
     "data": {
      "application/javascript": [
       "d3.selectAll(\".input\").style(\"background-color\", \"blue\");"
      ],
      "text/plain": [
       "<IPython.core.display.Javascript object>"
      ]
     },
     "metadata": {},
     "output_type": "display_data"
    }
   ],
   "source": [
    "%%javascript\n",
    "d3.selectAll(\".input\").style(\"background-color\", \"blue\");"
   ]
  },
  {
   "cell_type": "code",
   "execution_count": 48,
   "metadata": {
    "collapsed": false
   },
   "outputs": [
    {
     "data": {
      "text/html": [
       "\n",
       "<style scoped> .bedazzled {color: orange;} </style>\n",
       "<div id=\"d3-div-2\"></div>\n",
       "<script>\n",
       "\n",
       "var size_data = [10, 20, 30] ;\n",
       "\n",
       "d3.select(\"#d3-div-2\").selectAll('.bedazzled')\n",
       "    .data(size_data)\n",
       "    .enter().append('p')\n",
       "      .attr(\"class\",\"bedazzled\")\n",
       "      .style(\"font-size\", function(d){ return \"\" + d + \"px\";})\n",
       "      .text(\"Hello D3 with Python data!\");\n",
       "\n",
       "</script>\n"
      ],
      "text/plain": [
       "<IPython.core.display.HTML object>"
      ]
     },
     "execution_count": 48,
     "metadata": {},
     "output_type": "execute_result"
    }
   ],
   "source": [
    "from string import Template\n",
    "html_template = Template('''\n",
    "<style scoped> .bedazzled {color: orange;} </style>\n",
    "<div id=\"d3-div-2\"></div>\n",
    "<script>\n",
    "\n",
    "var size_data = $size_data_python ;\n",
    "\n",
    "d3.select(\"#d3-div-2\").selectAll('.bedazzled')\n",
    "    .data(size_data)\n",
    "    .enter().append('p')\n",
    "      .attr(\"class\",\"bedazzled\")\n",
    "      .style(\"font-size\", function(d){ return \"\" + d + \"px\";})\n",
    "      .text(\"Hello D3 with Python data!\");\n",
    "\n",
    "</script>\n",
    "''')\n",
    "HTML(html_template.substitute({'size_data_python': str(size_data)}))\n"
   ]
  },
  {
   "cell_type": "code",
   "execution_count": 55,
   "metadata": {
    "collapsed": false
   },
   "outputs": [
    {
     "data": {
      "application/javascript": [
       "var size_data = [4, 8, 15, 16, 23, 42] ;\n",
       "\n",
       "var x = d3.scale.linear()\n",
       "    .domain([0, d3.max(size_data)])\n",
       "    .range([0, 420]);\n",
       "\n",
       "\n",
       "d3.select(element.get(0)).selectAll('div')\n",
       "    .data(size_data)\n",
       "    .enter().append('div')\n",
       "    .style(\"width\", function(d) { return x(d) + \"px\"; })\n",
       "    .style(\"background-color\", \"steelblue\")\n",
       "    .style(\"font\", \"10px sans-serif\")\n",
       "    .style(\"text-align\", \"right\")\n",
       "    .style(\"padding\", \"3px\")\n",
       "    .style(\"margin\", \"1px\")\n",
       "    .style(\"color\", \"white\")\n",
       "    .text(function(d) { return d; });"
      ],
      "text/plain": [
       "<IPython.core.display.Javascript object>"
      ]
     },
     "metadata": {},
     "output_type": "display_data"
    }
   ],
   "source": [
    "%%javascript\n",
    "var size_data = [4, 8, 15, 16, 23, 42] ;\n",
    "\n",
    "var x = d3.scale.linear()\n",
    "    .domain([0, d3.max(size_data)])\n",
    "    .range([0, 420]);\n",
    "\n",
    "\n",
    "d3.select(element.get(0)).selectAll('div')\n",
    "    .data(size_data)\n",
    "    .enter().append('div')\n",
    "    .style(\"width\", function(d) { return x(d) + \"px\"; })\n",
    "    .style(\"background-color\", \"steelblue\")\n",
    "    .style(\"font\", \"10px sans-serif\")\n",
    "    .style(\"text-align\", \"right\")\n",
    "    .style(\"padding\", \"3px\")\n",
    "    .style(\"margin\", \"1px\")\n",
    "    .style(\"color\", \"white\")\n",
    "    .text(function(d) { return d; });\n"
   ]
  },
  {
   "cell_type": "code",
   "execution_count": 75,
   "metadata": {
    "collapsed": false
   },
   "outputs": [
    {
     "data": {
      "application/javascript": [
       "var data = [4, 8, 15, 16, 23, 42];\n",
       "\n",
       "var width = 420,\n",
       "    barHeight = 20;\n",
       "\n",
       "var x = d3.scale.linear()\n",
       "    .domain([0, d3.max(data)])\n",
       "    .range([0, width]);\n",
       "\n",
       "//element.append('<svg id=\"mychart\"><circle cx=\"60\" cy=\"60\" r=\"50\"></circle></svg>');\n",
       "\n",
       "var chart = d3.select(element.get(0)).append(\"svg\")\n",
       "    .attr(\"width\", width)\n",
       "    .attr(\"height\", barHeight * (data.length+1) );\n",
       "\n",
       "\n",
       "var bar = chart.selectAll(\"g\")\n",
       "    .data(data)\n",
       "  .enter().append(\"g\")\n",
       "    .attr(\"transform\", function(d, i) { return \"translate(0,\" + i * barHeight + \")\"; });\n",
       "\n",
       "bar.append(\"rect\")\n",
       "    .style(\"fill\", \"steelblue\")\n",
       "    .attr(\"width\", x)\n",
       "    .attr(\"height\", barHeight - 1);\n",
       "\n",
       "bar.append(\"text\")\n",
       "    .style(\"fill\", \"white\")\n",
       "    .style(\"font\", \"10px sans-serif\")\n",
       "    .style(\"text-anchor\", \"end\")\n",
       "    .attr(\"x\", function(d) { return x(d) - 3; })\n",
       "    .attr(\"y\", barHeight / 2)\n",
       "    .attr(\"dy\", \".35em\")\n",
       "    .text(function(d) { return d; });\n"
      ],
      "text/plain": [
       "<IPython.core.display.Javascript object>"
      ]
     },
     "metadata": {},
     "output_type": "display_data"
    }
   ],
   "source": [
    "%%javascript\n",
    "var data = [4, 8, 15, 16, 23, 42];\n",
    "\n",
    "var width = 420,\n",
    "    barHeight = 20;\n",
    "\n",
    "var x = d3.scale.linear()\n",
    "    .domain([0, d3.max(data)])\n",
    "    .range([0, width]);\n",
    "\n",
    "//element.append('<svg id=\"mychart\"><circle cx=\"60\" cy=\"60\" r=\"50\"></circle></svg>');\n",
    "\n",
    "var chart = d3.select(element.get(0)).append(\"svg\")\n",
    "    .attr(\"width\", width)\n",
    "    .attr(\"height\", barHeight * (data.length+1) );\n",
    "\n",
    "\n",
    "var bar = chart.selectAll(\"g\")\n",
    "    .data(data)\n",
    "  .enter().append(\"g\")\n",
    "    .attr(\"transform\", function(d, i) { return \"translate(0,\" + i * barHeight + \")\"; });\n",
    "\n",
    "bar.append(\"rect\")\n",
    "    .style(\"fill\", \"steelblue\")\n",
    "    .attr(\"width\", x)\n",
    "    .attr(\"height\", barHeight - 1);\n",
    "\n",
    "bar.append(\"text\")\n",
    "    .style(\"fill\", \"white\")\n",
    "    .style(\"font\", \"10px sans-serif\")\n",
    "    .style(\"text-anchor\", \"end\")\n",
    "    .attr(\"x\", function(d) { return x(d) - 3; })\n",
    "    .attr(\"y\", barHeight / 2)\n",
    "    .attr(\"dy\", \".35em\")\n",
    "    .text(function(d) { return d; });\n",
    "\n"
   ]
  },
  {
   "cell_type": "markdown",
   "metadata": {},
   "source": [
    "# References\n",
    "\n",
    "[d3 jupyter tutorial](https://github.com/stitchfix/d3-jupyter-tutorial/)\n",
    "\n",
    "[Graphical Perception - fundamentals](http://flowingdata.com/2010/03/20/graphical-perception-learn-the-fundamentals-first/)\n",
    "\n",
    "[TextFlow in SVG by carto:net](http://www.carto.net/svg/textFlow/)"
   ]
  },
  {
   "cell_type": "code",
   "execution_count": null,
   "metadata": {
    "collapsed": true
   },
   "outputs": [],
   "source": []
  }
 ],
 "metadata": {
  "kernelspec": {
   "display_name": "Python 3",
   "language": "python",
   "name": "python3"
  },
  "language_info": {
   "codemirror_mode": {
    "name": "ipython",
    "version": 3
   },
   "file_extension": ".py",
   "mimetype": "text/x-python",
   "name": "python",
   "nbconvert_exporter": "python",
   "pygments_lexer": "ipython3",
   "version": "3.5.1"
  }
 },
 "nbformat": 4,
 "nbformat_minor": 0
}
